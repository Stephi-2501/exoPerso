{
  "cells": [
    {
      "cell_type": "markdown",
      "metadata": {
        "id": "-8Su_VkcMM4n"
      },
      "source": [
        "![openclassrooms](https://s3.eu-west-1.amazonaws.com/course.oc-static.com/courses/6204541/1+HnqdJ-5ofxiPP9HIxdNdpw.jpeg)\n",
        "\n",
        "# Initiez-vous à Python pour l'analyse de données\n",
        "\n",
        "## Programmez en orienté objet\n",
        "\n",
        "<br><br>\n",
        "\n",
        "**Les méthodes de chaines de caractères**\n",
        "\n",
        "Soit la variable `maPhrase` suivante :"
      ]
    },
    {
      "cell_type": "code",
      "execution_count": 5,
      "metadata": {
        "id": "JXhFfOHPMM4r"
      },
      "outputs": [],
      "source": [
        "maPhrase = 'JE SUIS ENERVE !!'"
      ]
    },
    {
      "cell_type": "markdown",
      "metadata": {
        "id": "-AoDAvElMM4s"
      },
      "source": [
        "Utilisez une méthode de chaines de caractères pour transformer la variable `maPhrase`  en minuscule :"
      ]
    },
    {
      "cell_type": "code",
      "execution_count": 6,
      "metadata": {
        "id": "03P-mWSJMM4t",
        "outputId": "8e526ab8-ccdf-42f0-f89f-2234c43ba464",
        "colab": {
          "base_uri": "https://localhost:8080/",
          "height": 36
        }
      },
      "outputs": [
        {
          "output_type": "execute_result",
          "data": {
            "text/plain": [
              "'Je suis enerve !!'"
            ],
            "application/vnd.google.colaboratory.intrinsic+json": {
              "type": "string"
            }
          },
          "metadata": {},
          "execution_count": 6
        }
      ],
      "source": [
        "maPhrase.capitalize()"
      ]
    },
    {
      "cell_type": "markdown",
      "metadata": {
        "id": "SmcvSxzjMM4t"
      },
      "source": [
        "Remplacez les **...** par une ligne permettant, à partir de la variable maPhrase d'afficher : `je suis calme !!`"
      ]
    },
    {
      "cell_type": "code",
      "execution_count": 8,
      "metadata": {
        "id": "pEaOw96sMM4t",
        "outputId": "fcebd370-8ab4-4508-be49-3139d4b9121c",
        "colab": {
          "base_uri": "https://localhost:8080/"
        }
      },
      "outputs": [
        {
          "output_type": "stream",
          "name": "stdout",
          "text": [
            "je suis calme !!\n"
          ]
        }
      ],
      "source": [
        "print(maPhrase.lower().replace('enerve', 'calme'))"
      ]
    }
  ],
  "metadata": {
    "kernelspec": {
      "display_name": "Python 3",
      "language": "python",
      "name": "python3"
    },
    "language_info": {
      "codemirror_mode": {
        "name": "ipython",
        "version": 3
      },
      "file_extension": ".py",
      "mimetype": "text/x-python",
      "name": "python",
      "nbconvert_exporter": "python",
      "pygments_lexer": "ipython3",
      "version": "3.8.5"
    },
    "colab": {
      "provenance": []
    }
  },
  "nbformat": 4,
  "nbformat_minor": 0
}