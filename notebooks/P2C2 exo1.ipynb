{
  "cells": [
    {
      "cell_type": "markdown",
      "metadata": {
        "id": "sXqcv1DF1UbX"
      },
      "source": [
        "![openclassrooms](https://s3.eu-west-1.amazonaws.com/course.oc-static.com/courses/6204541/1+HnqdJ-5ofxiPP9HIxdNdpw.jpeg)\n",
        "\n",
        "# Initiez-vous à Python pour l'analyse de données\n",
        "\n",
        "## Manipulez les types de variables\n",
        "\n",
        "Reprenons la problématique du taux d'intérêt du chapitre précédent :"
      ]
    },
    {
      "cell_type": "code",
      "execution_count": 1,
      "metadata": {
        "id": "_51OFOCr1Ubc",
        "outputId": "43e85889-8f89-421c-9687-ced476cefacc",
        "colab": {
          "base_uri": "https://localhost:8080/"
        }
      },
      "outputs": [
        {
          "output_type": "stream",
          "name": "stdout",
          "text": [
            "75.0\n"
          ]
        }
      ],
      "source": [
        "compteEpargne = 10000\n",
        "taux = 0.75\n",
        "\n",
        "interets = compteEpargne * (taux/100)\n",
        "\n",
        "print(interets)"
      ]
    },
    {
      "cell_type": "markdown",
      "metadata": {
        "id": "6f7CBAVS1Ube"
      },
      "source": [
        "Si vous observez bien, la variable `interets` est actuellement de type `float`. Ecrivez ci dessous une ligne permettant de la transformer en entier :"
      ]
    },
    {
      "cell_type": "code",
      "execution_count": 2,
      "metadata": {
        "id": "A9uxhLL61Ubf",
        "outputId": "76abad3b-a257-4b13-b91a-d571ed99ac63",
        "colab": {
          "base_uri": "https://localhost:8080/"
        }
      },
      "outputs": [
        {
          "output_type": "stream",
          "name": "stdout",
          "text": [
            "75\n"
          ]
        }
      ],
      "source": [
        "interets = int(interets)\n",
        "print(interets)"
      ]
    }
  ],
  "metadata": {
    "kernelspec": {
      "display_name": "Python 3",
      "language": "python",
      "name": "python3"
    },
    "language_info": {
      "codemirror_mode": {
        "name": "ipython",
        "version": 3
      },
      "file_extension": ".py",
      "mimetype": "text/x-python",
      "name": "python",
      "nbconvert_exporter": "python",
      "pygments_lexer": "ipython3",
      "version": "3.8.5"
    },
    "colab": {
      "provenance": []
    }
  },
  "nbformat": 4,
  "nbformat_minor": 0
}