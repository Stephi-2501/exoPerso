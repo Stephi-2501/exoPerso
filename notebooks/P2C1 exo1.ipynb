{
  "cells": [
    {
      "cell_type": "markdown",
      "metadata": {
        "id": "view-in-github",
        "colab_type": "text"
      },
      "source": [
        "<a href=\"https://colab.research.google.com/github/Stephi-2501/exoPerso/blob/main/notebooks/P2C1%20exo1.ipynb\" target=\"_parent\"><img src=\"https://colab.research.google.com/assets/colab-badge.svg\" alt=\"Open In Colab\"/></a>"
      ]
    },
    {
      "cell_type": "markdown",
      "metadata": {
        "id": "NnGFWeemp1gx"
      },
      "source": [
        "![openclassrooms](https://s3.eu-west-1.amazonaws.com/course.oc-static.com/courses/6204541/1+HnqdJ-5ofxiPP9HIxdNdpw.jpeg)\n",
        "\n",
        "# Initiez-vous à Python pour l'analyse de données\n",
        "\n",
        "## Déclarez une variable\n",
        "\n",
        "Exécutez la case suivante qui déclare les variables :\n",
        "- `compteEpargne` correspondant au montant sur le compte épargne\n",
        "- `taux` le taux d'intérêt pour l'année considérée"
      ]
    },
    {
      "cell_type": "code",
      "execution_count": 3,
      "metadata": {
        "id": "_mSSNP8kp1g5"
      },
      "outputs": [],
      "source": [
        "compteEpargne = 10000\n",
        "taux = 0.75"
      ]
    },
    {
      "cell_type": "markdown",
      "metadata": {
        "id": "JR7lVgPsp1g_"
      },
      "source": [
        "Créez une variable `interets`, qui correspond au montant sur le compte épargne multiplié par le taux d'intérêt (qui lui même doit être divisé par 100, car les taux sont exprimés en pourcentage) :"
      ]
    },
    {
      "cell_type": "code",
      "execution_count": 4,
      "metadata": {
        "id": "DNqRpV4sp1hA"
      },
      "outputs": [],
      "source": [
        "interets = compteEpargne * (taux/100)"
      ]
    },
    {
      "cell_type": "markdown",
      "metadata": {
        "id": "E9E3eotBp1hA"
      },
      "source": [
        "A présent exécutez la case suivante :"
      ]
    },
    {
      "cell_type": "code",
      "execution_count": 5,
      "metadata": {
        "id": "-ub-Qfo7p1hB",
        "outputId": "1c80a301-0ed7-48e6-9946-4c2daa32d803",
        "colab": {
          "base_uri": "https://localhost:8080/"
        }
      },
      "outputs": [
        {
          "output_type": "stream",
          "name": "stdout",
          "text": [
            "Le solde de votre compte était de 10000 €\n",
            "Il vous a rapporté 75.0 € cette année\n"
          ]
        }
      ],
      "source": [
        "print(\"Le solde de votre compte était de\", compteEpargne, \"€\\nIl vous a rapporté\", interets, \"€ cette année\")"
      ]
    }
  ],
  "metadata": {
    "kernelspec": {
      "display_name": "Python 3",
      "language": "python",
      "name": "python3"
    },
    "language_info": {
      "codemirror_mode": {
        "name": "ipython",
        "version": 3
      },
      "file_extension": ".py",
      "mimetype": "text/x-python",
      "name": "python",
      "nbconvert_exporter": "python",
      "pygments_lexer": "ipython3",
      "version": "3.8.5"
    },
    "colab": {
      "provenance": [],
      "include_colab_link": true
    }
  },
  "nbformat": 4,
  "nbformat_minor": 0
}